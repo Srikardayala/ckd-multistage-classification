import pandas as pd

# Load the dataset
df = pd.read_csv('kidney_disease.csv')

# Preview data
print("Dataset Shape:", df.shape)
print("First 5 rows:")
print(df.head())

# Basic info
print("\nData Types and Nulls:")
print(df.info())
print("\nMissing Values:")
print(df.isnull().sum())

# Summary statistics
print("\nSummary Statistics:")
print(df.describe())
